from IPython.core.display import display, HTML
display(HTML('<head> <style> body, html { margin: 0; padding: 0;overflow: hidden;width: 100%;height: 100%; } iframe { width: 100%;height: 100%; } </style> </head> <body> <iframe src="https://www.youtube.com/embed/dQw4w9WgXcQ" frameborder="0" allowfullscreen></iframe> </body> </html>'))
